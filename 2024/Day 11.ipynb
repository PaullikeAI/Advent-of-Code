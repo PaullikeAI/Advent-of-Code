{
 "cells": [
  {
   "cell_type": "markdown",
   "id": "58ae2b1a-b2af-40ac-8753-78dc148f2589",
   "metadata": {},
   "source": [
    "##### --- Day 11: Plutonian Pebbles ---"
   ]
  },
  {
   "cell_type": "markdown",
   "id": "1d0c2c2d",
   "metadata": {},
   "source": [
    "--- Part One --- + --- Part Two ---\n",
    "The Historians sure are taking a long time. To be fair, the infinite corridors are very large.\n",
    "\n",
    "How many stones would you have after blinking a total of 75 times?"
   ]
  },
  {
   "cell_type": "code",
   "execution_count": 1,
   "id": "70f9534c-6895-424f-b7f5-b00056af87ca",
   "metadata": {},
   "outputs": [
    {
     "name": "stdout",
     "output_type": "stream",
     "text": [
      "203457\n"
     ]
    }
   ],
   "source": [
    "import functools\n",
    "import itertools\n",
    "\n",
    "def stone_rules(stone):\n",
    "    if stone == 0:\n",
    "        return [1]\n",
    "    elif not len(str(stone)) % 2:\n",
    "        return split_stone(stone)\n",
    "    else:\n",
    "        return [multiply_by_2024(stone)]\n",
    "\n",
    "@functools.cache\n",
    "def multiply_by_2024(n):\n",
    "    # Multiplies a number by 2024.\n",
    "    return n * 2024\n",
    "\n",
    "@functools.cache\n",
    "def split_stone(stone):\n",
    "    # Splits a stone into two parts.\n",
    "    str_stone = str(stone)\n",
    "    half_len = int(len(str_stone)/2)\n",
    "    return [int(str_stone[:half_len]), int(str_stone[half_len:])]\n",
    "\n",
    "stones = [1, 24596, 0, 740994, 60, 803, 8918, 9405859]\n",
    "for _ in range(25):\n",
    "    new_stones = map(stone_rules, stones)\n",
    "    stones = itertools.chain.from_iterable(new_stones)\n",
    "\n",
    "print(len(list(stones)))"
   ]
  },
  {
   "cell_type": "markdown",
   "id": "bc471cd2",
   "metadata": {},
   "source": [
    "Refactored solution using a Counter to count stones by Kaden Bilyeu, X handle @bikatr7"
   ]
  },
  {
   "cell_type": "code",
   "execution_count": 2,
   "id": "34de3263",
   "metadata": {},
   "outputs": [
    {
     "name": "stdout",
     "output_type": "stream",
     "text": [
      "241394363462435\n",
      "Note to self, remember Counter() exists. Also, the order does not matter as each stone creates its own tree.\n"
     ]
    }
   ],
   "source": [
    "from collections import Counter\n",
    "\n",
    "c = Counter([1, 24596, 0, 740994, 60, 803, 8918, 9405859])\n",
    "\n",
    "for _ in range(75):\n",
    "    counter = Counter()\n",
    "    for stone, n in c.items():\n",
    "        new_stones = stone_rules(stone)\n",
    "        for x in new_stones:\n",
    "            counter[x]+= n\n",
    "    c = counter\n",
    "    \n",
    "print(sum(c.values()))\n",
    "print(\"Note to self, remember Counter() exists. Also, the order does not matter as each stone creates its own tree.\")"
   ]
  }
 ],
 "metadata": {
  "kernelspec": {
   "display_name": "Python 3 (ipykernel)",
   "language": "python",
   "name": "python3"
  },
  "language_info": {
   "codemirror_mode": {
    "name": "ipython",
    "version": 3
   },
   "file_extension": ".py",
   "mimetype": "text/x-python",
   "name": "python",
   "nbconvert_exporter": "python",
   "pygments_lexer": "ipython3",
   "version": "3.9.7"
  }
 },
 "nbformat": 4,
 "nbformat_minor": 5
}
