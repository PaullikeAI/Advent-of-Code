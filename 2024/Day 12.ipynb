{
 "cells": [
  {
   "cell_type": "markdown",
   "id": "f7b7d269-73ff-4876-be8f-e678cd692529",
   "metadata": {},
   "source": [
    "##### --- Day 12: Garden Groups ---\n",
    "\n",
    "--- Part One ---"
   ]
  },
  {
   "cell_type": "code",
   "execution_count": 34,
   "id": "5a0e4bdc",
   "metadata": {},
   "outputs": [],
   "source": [
    "from itertools import groupby\n",
    "\n",
    "file = open(\"day_12.txt\", \"r\")\n",
    "garden = [[i for i in j] for j in [i.strip() for i in file.readlines()]]"
   ]
  },
  {
   "cell_type": "code",
   "execution_count": 47,
   "id": "9723d2fb",
   "metadata": {},
   "outputs": [],
   "source": [
    "def in_garden(pos, garden):\n",
    "    if pos[0] > len(garden) - 1:\n",
    "        return False\n",
    "    if pos[1] > len(garden[0]) - 1:\n",
    "        return False\n",
    "    if pos[0] < 0 or pos[1] < 0:\n",
    "        return False\n",
    "    return True\n",
    "\n",
    "def free_sides(pos, letter, garden):\n",
    "    free_sides = 0\n",
    "    x = pos[0]\n",
    "    y = pos[1]\n",
    "    compass = [[x-1, y ], [x+1, y], [x, y-1], [x, y+1]]\n",
    "    # Check up, down, left right for adjacent letters.\n",
    "    for p in compass:\n",
    "        if not in_garden(p, garden):\n",
    "            free_sides += 1\n",
    "        elif garden[p[0]][p[1]] != letter:\n",
    "            free_sides += 1\n",
    "        else:\n",
    "            pass\n",
    "    return free_sides"
   ]
  },
  {
   "cell_type": "code",
   "execution_count": 48,
   "id": "e223139f",
   "metadata": {},
   "outputs": [
    {
     "name": "stdout",
     "output_type": "stream",
     "text": [
      "1461806\n"
     ]
    }
   ],
   "source": [
    "def recursive_crawler(positions, garden, letter, discovered):\n",
    "    if discovered == 0:\n",
    "        return positions\n",
    "    else:\n",
    "        new_discoveries = 0\n",
    "        # For each discovered new area, expand outwards and see if NSEW also in area.\n",
    "        for pos in positions:\n",
    "            x = pos[0]\n",
    "            y = pos[1]\n",
    "            compass = [[x-1, y ], [x+1, y], [x, y-1], [x, y+1]]\n",
    "            \n",
    "            for p in compass:\n",
    "                # Check up, down, left right for matching letters.\n",
    "                x = p[0]\n",
    "                y = p[1]\n",
    "                if not in_garden(p, garden):\n",
    "                    pass\n",
    "                elif garden[p[0]][p[1]] == letter:\n",
    "                    if p not in positions:  \n",
    "                        positions.append(p)\n",
    "                        new_discoveries += 1\n",
    "                else:\n",
    "                    pass\n",
    "        # Work recursively through all points to find new points.\n",
    "        return recursive_crawler(positions, garden, letter, new_discoveries)\n",
    "\n",
    "area_areas = []\n",
    "total = 0\n",
    "area_id = 0\n",
    "areas = {}\n",
    "all_positions = []\n",
    "for r_ind, row in enumerate(garden):\n",
    "    for c_ind, l in enumerate(row):\n",
    "        if [r_ind, c_ind] not in all_positions:\n",
    "            # Find all positions in that area.\n",
    "            a_pos = recursive_crawler([[r_ind, c_ind]], garden, l, 1)\n",
    "\n",
    "            # Add all positions to the all_positions list.\n",
    "            all_positions += a_pos\n",
    "\n",
    "            # Add the area multiplied by the perimeter to the total cost.\n",
    "            total += len(a_pos) * sum(free_sides(p, l, garden) for p in a_pos) \n",
    "            area_areas.append(len(a_pos))\n",
    "            \n",
    "            # Add all edge letters to areas dictionary and increment area_id.\n",
    "            areas[(area_id, l)] = a_pos\n",
    "            area_id += 1\n",
    "\n",
    "print(total)"
   ]
  },
  {
   "cell_type": "markdown",
   "id": "597688c0-3efe-4b8b-b6f0-4e223259b171",
   "metadata": {},
   "source": [
    "--- Part Two ---"
   ]
  },
  {
   "cell_type": "code",
   "execution_count": 10,
   "id": "ba6afb24-1a51-4784-835d-f469854192ea",
   "metadata": {},
   "outputs": [],
   "source": [
    "def sides_facing(pos, garden):\n",
    "    # Returns a list of compass points that the free sides are facing in [\"N\", \"S\", \"E\"] format.\n",
    "    sides_facing = []\n",
    "    x = pos[0]\n",
    "    y = pos[1]\n",
    "    area_letter = garden[x][y]\n",
    "    compass = {\"N\":[x-1, y ], \"S\":[x+1, y], \"E\": [x, y+1], \"W\":[x, y-1]}\n",
    "    # Check up, down, left right for absense of adjacent letters.\n",
    "    for p in compass:\n",
    "        if not in_garden(compass[p], garden):\n",
    "            sides_facing.append(p)\n",
    "        elif garden[compass[p][0]][compass[p][1]] != area_letter:\n",
    "            sides_facing.append(p)\n",
    "        else:\n",
    "            pass\n",
    "    return sides_facing"
   ]
  },
  {
   "cell_type": "code",
   "execution_count": 45,
   "id": "4b7b726d-c0a8-4200-9f33-7e5523817555",
   "metadata": {},
   "outputs": [
    {
     "name": "stdout",
     "output_type": "stream",
     "text": [
      "887932\n"
     ]
    }
   ],
   "source": [
    "new_total = 0\n",
    "area_counter = 0\n",
    "for a in areas:\n",
    "    facing = {\"N\": [], \"S\": [], \"E\": [], \"W\": []}\n",
    "    for p in areas[a]:\n",
    "        # Find which directions each free side is facing and add to facing dictionary for each one.\n",
    "        p_facing = sides_facing(p, garden)\n",
    "        for d in p_facing:\n",
    "            facing[d].append(p)\n",
    "\n",
    "    area_sides = 0\n",
    "    for c_p in facing:\n",
    "        # For each direction strip out adjacent letters.\n",
    "        if c_p in \"NS\":\n",
    "            facing[c_p] = sorted(facing[c_p])\n",
    "            sorted_rows = [list(group) for key, group in groupby(facing[c_p], lambda x: x[0])]\n",
    "            for row in sorted_rows:\n",
    "                to_remove = []\n",
    "                current = None\n",
    "                for l in row:\n",
    "                    if current == None:\n",
    "                        current = l\n",
    "                    elif l[1] == current[1] + 1:\n",
    "                        # Must be adjacent, add to the to remove list.\n",
    "                        to_remove.append(current)\n",
    "                        current = l\n",
    "                    else:\n",
    "                        # Not at the start, and not adjacent, so is a break in the side.\n",
    "                        current = l\n",
    "                area_sides += len([x for x in row if x not in to_remove])\n",
    "        else:\n",
    "            facing[c_p] = sorted(facing[c_p], key=lambda x: x[1])  \n",
    "            sorted_rows = [list(group) for key, group in groupby(facing[c_p], lambda x: x[1])]\n",
    "            for row in sorted_rows:\n",
    "                row = sorted(row)  \n",
    "                to_remove = []\n",
    "                current = None\n",
    "                for l in row:\n",
    "                    if current == None:\n",
    "                        current = l\n",
    "                    elif l[0] == current[0] + 1:\n",
    "                        # Must be adjacent, add to the to remove list.\n",
    "                        to_remove.append(current)\n",
    "                        current = l\n",
    "                    else:\n",
    "                        # Not at the start, and not adjacent, so is a break in the side.\n",
    "                        current = l\n",
    "                area_sides += len([x for x in row if x not in to_remove])\n",
    "    \n",
    "    new_total += area_sides * area_areas[area_counter]\n",
    "    area_counter += 1\n",
    "    \n",
    "print(new_total)"
   ]
  }
 ],
 "metadata": {
  "kernelspec": {
   "display_name": "Python 3 (ipykernel)",
   "language": "python",
   "name": "python3"
  },
  "language_info": {
   "codemirror_mode": {
    "name": "ipython",
    "version": 3
   },
   "file_extension": ".py",
   "mimetype": "text/x-python",
   "name": "python",
   "nbconvert_exporter": "python",
   "pygments_lexer": "ipython3",
   "version": "3.9.7"
  }
 },
 "nbformat": 4,
 "nbformat_minor": 5
}
