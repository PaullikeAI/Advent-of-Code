{
 "cells": [
  {
   "cell_type": "markdown",
   "id": "a5933ca3",
   "metadata": {},
   "source": [
    "##### --- Day 7: Bridge Repair ---\n",
    "\n",
    "--- Part One ---"
   ]
  },
  {
   "cell_type": "code",
   "execution_count": 71,
   "id": "b521b06c",
   "metadata": {},
   "outputs": [],
   "source": [
    "test = [\"190: 10 19\",\n",
    "\"3267: 81 40 27\",\n",
    "\"83: 17 5\",\n",
    "\"156: 15 6\",\n",
    "\"7290: 6 8 6 15\",\n",
    "\"161011: 16 10 13\",\n",
    "\"192: 17 8 14\",\n",
    "\"21037: 9 7 18 13\",\n",
    "\"292: 11 6 16 20\"]"
   ]
  },
  {
   "cell_type": "code",
   "execution_count": 83,
   "id": "00d96dec",
   "metadata": {},
   "outputs": [],
   "source": [
    "import itertools as it\n",
    "import numpy as np"
   ]
  },
  {
   "cell_type": "code",
   "execution_count": 90,
   "id": "e20729b1",
   "metadata": {},
   "outputs": [
    {
     "name": "stdout",
     "output_type": "stream",
     "text": [
      "Total: 4364915411363\n"
     ]
    }
   ],
   "source": [
    "file = open(\"day_7.txt\", \"r\")\n",
    "content = file.readlines()\n",
    "\n",
    "# Parse into correct format of [answer, [num1, num2 ... num_n]]\n",
    "equations = []\n",
    "for line in content:\n",
    "    split_line = line.split()\n",
    "    equations.append([int(split_line[0][:-1]) ,[int(x) for x in split_line[1:]]])\n",
    "\n",
    "total_cal_res = 0\n",
    "for e in equations:\n",
    "    for i in list(it.product(\"+*\", repeat=len(e[1])-1)):\n",
    "        total = e[1][0]\n",
    "        for ind, num in enumerate(e[1][1:]):\n",
    "            if i[ind] == \"+\":\n",
    "                total += num\n",
    "            else:\n",
    "                total *= num\n",
    "        if total == e[0]:\n",
    "            total_cal_res += e[0]\n",
    "            break\n",
    "            \n",
    "print(f\"Total: {total_cal_res}\")"
   ]
  },
  {
   "cell_type": "markdown",
   "id": "d44c7e61",
   "metadata": {},
   "source": [
    "--- Part Two ---\n",
    "The engineers seem concerned; the total calibration result you gave them is nowhere close to being within safety tolerances. Just then, you spot your mistake: some well-hidden elephants are holding a third type of operator.\n",
    "\n",
    "The concatenation operator (||) combines the digits from its left and right inputs into a single number. For example, 12 || 345 would become 12345. All operators are still evaluated left-to-right.\n",
    "\n",
    "Now, apart from the three equations that could be made true using only addition and multiplication, the above example has three more equations that can be made true by inserting operators:\n",
    "\n",
    "156: 15 6 can be made true through a single concatenation: 15 || 6 = 156.\n",
    "7290: 6 8 6 15 can be made true using 6 * 8 || 6 * 15.\n",
    "192: 17 8 14 can be made true using 17 || 8 + 14.\n",
    "Adding up all six test values (the three that could be made before using only + and * plus the new three that can now be made by also using ||) produces the new total calibration result of 11387.\n",
    "\n",
    "Using your new knowledge of elephant hiding spots, determine which equations could possibly be true. What is their total calibration result?"
   ]
  },
  {
   "cell_type": "code",
   "execution_count": 89,
   "id": "f7eb2750",
   "metadata": {},
   "outputs": [
    {
     "name": "stdout",
     "output_type": "stream",
     "text": [
      "Total: 38322057216320\n"
     ]
    }
   ],
   "source": [
    "# Parse into correct format of [answer, [num1, num2 ... num_n]]\n",
    "equations = []\n",
    "for line in content:\n",
    "    split_line = line.split()\n",
    "    equations.append([int(split_line[0][:-1]) ,[int(x) for x in line.split()[1:]]])\n",
    "\n",
    "total_cal_res = 0\n",
    "for e in equations:\n",
    "    for i in list(it.product(\"+*|\", repeat=len(e[1])-1)):\n",
    "        total = e[1][0]\n",
    "        for ind, num in enumerate(e[1][1:]):\n",
    "            if i[ind] == \"+\":\n",
    "                total += num\n",
    "            elif i[ind] == \"*\":\n",
    "                total *= num\n",
    "            else:\n",
    "                total = int(str(total)+str(num))\n",
    "        if total == e[0]:\n",
    "            total_cal_res += e[0]\n",
    "            break\n",
    "            \n",
    "print(f\"Total: {total_cal_res}\")"
   ]
  }
 ],
 "metadata": {
  "kernelspec": {
   "display_name": "Python 3 (ipykernel)",
   "language": "python",
   "name": "python3"
  },
  "language_info": {
   "codemirror_mode": {
    "name": "ipython",
    "version": 3
   },
   "file_extension": ".py",
   "mimetype": "text/x-python",
   "name": "python",
   "nbconvert_exporter": "python",
   "pygments_lexer": "ipython3",
   "version": "3.9.7"
  }
 },
 "nbformat": 4,
 "nbformat_minor": 5
}
