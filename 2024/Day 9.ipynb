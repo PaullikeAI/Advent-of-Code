{
 "cells": [
  {
   "cell_type": "markdown",
   "id": "abfff7a2",
   "metadata": {},
   "source": [
    "##### --- Day 9: Disk Fragmenter ---\n",
    "\n",
    "--- Part One ---"
   ]
  },
  {
   "cell_type": "code",
   "execution_count": 63,
   "id": "ab726b84",
   "metadata": {},
   "outputs": [],
   "source": [
    "import itertools\n",
    "\n",
    "file = open(\"day_9.txt\", \"r\")\n",
    "content = [i.strip() for i in file.readlines()][0]\n",
    "\n",
    "def exp_disk_map(disk_map):\n",
    "    output = []\n",
    "    ID = 0\n",
    "    for ind, num in enumerate(str(disk_map)):\n",
    "        if ind % 2:\n",
    "            output += [\".\" for i in range(int(num))]\n",
    "        else:\n",
    "            output += [ID for i in range(int(num))] \n",
    "            ID += 1\n",
    "    return output\n",
    "\n",
    "blocks = exp_disk_map(content)"
   ]
  },
  {
   "cell_type": "code",
   "execution_count": 60,
   "id": "e365ff32",
   "metadata": {},
   "outputs": [
    {
     "name": "stdout",
     "output_type": "stream",
     "text": [
      "6435922584968\n"
     ]
    }
   ],
   "source": [
    "# Move blocks one at a time until no gaps left.\n",
    "while True:\n",
    "    # Find index of first fullstop in the list.\n",
    "    stop_ind = blocks.index(\".\")\n",
    "    \n",
    "    # Find index of last number in the list.\n",
    "    for ind, i in enumerate(blocks[::-1]):\n",
    "        if i != \".\":\n",
    "            num_ind = len(blocks) - ind - 1\n",
    "            break\n",
    "            \n",
    "    if num_ind < stop_ind:\n",
    "        # All spaces are filled\n",
    "        break\n",
    "        \n",
    "    # Move block to fill gap.\n",
    "    blocks[stop_ind] = blocks[num_ind]\n",
    "    blocks[num_ind] = \".\"\n",
    "    \n",
    "# Trim list\n",
    "stop_index = blocks.index(\".\")\n",
    "blocks = blocks[:stop_index]\n",
    "\n",
    "print(sum([i * ind for ind, i in enumerate(blocks)]))"
   ]
  },
  {
   "cell_type": "markdown",
   "id": "411b0e55",
   "metadata": {},
   "source": [
    "--- Part Two ---"
   ]
  },
  {
   "cell_type": "code",
   "execution_count": 61,
   "id": "2566f10b",
   "metadata": {},
   "outputs": [
    {
     "name": "stdout",
     "output_type": "stream",
     "text": [
      "6435922584968\n"
     ]
    }
   ],
   "source": [
    "# Find largest block ID.\n",
    "to_move = blocks[-1]\n",
    "for i in range(1, to_move + 1)[::-1]:\n",
    "    # For each ID, calculate file length and where file starts.\n",
    "    block_len = blocks.count(i)\n",
    "    block_start = blocks.index(i)\n",
    "    \n",
    "    for ind, j in enumerate(blocks):\n",
    "        if j == \".\":\n",
    "            # For each gap, check if file will fit.\n",
    "            if blocks[ind:ind+block_len] == [\".\"] * block_len:\n",
    "                blocks[ind:ind+block_len] = [i for x in range(block_len)]\n",
    "                blocks[block_start:block_start+block_len] = [\".\" for y in range(block_len)]\n",
    "                break\n",
    "        if ind == block_start:\n",
    "            # End loop if no space found by the time index reaches the file.\n",
    "            break\n",
    "\n",
    "print(sum([i * ind if i != \".\" else 0  for ind, i in enumerate(blocks)]))"
   ]
  }
 ],
 "metadata": {
  "kernelspec": {
   "display_name": "Python 3 (ipykernel)",
   "language": "python",
   "name": "python3"
  },
  "language_info": {
   "codemirror_mode": {
    "name": "ipython",
    "version": 3
   },
   "file_extension": ".py",
   "mimetype": "text/x-python",
   "name": "python",
   "nbconvert_exporter": "python",
   "pygments_lexer": "ipython3",
   "version": "3.9.7"
  }
 },
 "nbformat": 4,
 "nbformat_minor": 5
}
