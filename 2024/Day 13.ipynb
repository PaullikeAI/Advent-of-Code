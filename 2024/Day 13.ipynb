{
 "cells": [
  {
   "cell_type": "markdown",
   "id": "769127fb",
   "metadata": {},
   "source": [
    "##### --- Day 13: Claw Contraption ---\n",
    "\n",
    "--- Part One --- + --- Part Two ---"
   ]
  },
  {
   "cell_type": "code",
   "execution_count": 71,
   "id": "fd1fbf64",
   "metadata": {},
   "outputs": [],
   "source": [
    "import re\n",
    "import numpy as np\n",
    "\n",
    "file = open(\"day_13.txt\", \"r\")\n",
    "the_input = [i.strip() for i in file.readlines()]\n",
    "\n",
    "machines = []\n",
    "machine = []\n",
    "for ind, line in enumerate(the_input):\n",
    "    # Produce list of machines in syntax [[Button_A+x, Button_A+y], [Button_B+x, Button_B+y], [Prize_x, Prize_y]].\n",
    "    machine.append([int(x) for x in re.findall('[0-9]+', line)])\n",
    "    if not (ind + 1) % 4:\n",
    "        machines.append(machine[:3])\n",
    "        machine = []\n",
    "machines.append(machine[:3])"
   ]
  },
  {
   "cell_type": "code",
   "execution_count": 70,
   "id": "12c31854",
   "metadata": {},
   "outputs": [
    {
     "name": "stdout",
     "output_type": "stream",
     "text": [
      "83102355665474\n"
     ]
    }
   ],
   "source": [
    "min_cost = 0\n",
    "for m in machines:\n",
    "    # Solver using linear algebra.\n",
    "    x_y_inversed = np.linalg.inv(np.array([[m[0][0], m[1][0]], [m[0][1], m[1][1]]]))\n",
    "    targets = np.array([[m[-1][0]], [m[-1][1]]])\n",
    "    ans = np.dot(x_y_inversed, targets)\n",
    "    if round(ans[0][0]) * m[0][0] + round(ans[1][0]) * m[1][0] == m[2][0]:\n",
    "        if round(ans[0][0]) * m[0][1] + round(ans[1][0]) * m[1][1] == m[2][1]:\n",
    "            min_cost += (round(ans[0][0]) * 3 + round(ans[1][0]))        \n",
    "print(min_cost)\n",
    "\n",
    "# Part 2\n",
    "for m in machines:\n",
    "    m[2][0] += 10000000000000\n",
    "    m[2][1] += 10000000000000"
   ]
  }
 ],
 "metadata": {
  "kernelspec": {
   "display_name": "Python 3 (ipykernel)",
   "language": "python",
   "name": "python3"
  },
  "language_info": {
   "codemirror_mode": {
    "name": "ipython",
    "version": 3
   },
   "file_extension": ".py",
   "mimetype": "text/x-python",
   "name": "python",
   "nbconvert_exporter": "python",
   "pygments_lexer": "ipython3",
   "version": "3.9.7"
  }
 },
 "nbformat": 4,
 "nbformat_minor": 5
}
