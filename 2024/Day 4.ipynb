{
 "cells": [
  {
   "cell_type": "markdown",
   "id": "4c36ed8b-0c33-4756-8d6c-12ce2e85f024",
   "metadata": {},
   "source": [
    "##### --- Day 4: Ceres Search ---\n",
    "\n",
    "--- Part One ---"
   ]
  },
  {
   "cell_type": "code",
   "execution_count": 1,
   "id": "009d2595-ced6-46f6-9d67-5e5161801954",
   "metadata": {},
   "outputs": [
    {
     "name": "stdout",
     "output_type": "stream",
     "text": [
      "Total: 2534\n"
     ]
    }
   ],
   "source": [
    "import regex as re\n",
    "\n",
    "file = open(\"day_4.txt\", \"r\")\n",
    "content = file.readlines()\n",
    "copy_of = []\n",
    "for row in content:\n",
    "    copy_of.append(row[:140])\n",
    "    \n",
    "def count_xmas(grid):\n",
    "    regex = '(XMAS)|(SAMX)' \n",
    "    total = 0 # XMAS count\n",
    "    \n",
    "    # Horizontal\n",
    "    for row in grid:\n",
    "        total += len(re.findall(regex, row, overlapped=True))\n",
    "        \n",
    "    # Vertical\n",
    "    for i in range(len(grid[0])):\n",
    "        column = \"\".join([grid[j][i] for j in range(len(grid[0]))])\n",
    "        total += len(re.findall(regex, column, overlapped=True))\n",
    "\n",
    "    # Diagonal \n",
    "    # List of right and top edge coordinates (top left just once).\n",
    "    left_top = [(0 , i) for i in range(len(grid))][1:][::-1] + [(i , 0) for i in range(len(grid))]\n",
    "    for diag in left_top:\n",
    "        diagonal = str(grid[diag[0]][diag[1]])\n",
    "        edge_hit = False\n",
    "        while not edge_hit:\n",
    "            try:\n",
    "                # Down and right one to coordinates\n",
    "                diag = diag[0] + 1, diag[1] + 1\n",
    "                diagonal += str(grid[diag[0]][diag[1]])\n",
    "            except:\n",
    "                edge_hit = True\n",
    "        total += len(re.findall(regex, diagonal, overlapped=True))\n",
    "                                \n",
    "    # List of right and top edge coordinates (top right just once).\n",
    "    top_right = [(len(grid)-1 , i) for i in range(len(grid))][::-1] + [(i , 0) for i in range(len(grid))][::-1][1:]\n",
    "    for ind, diag in enumerate(top_right):\n",
    "        diagonal = str(grid[diag[0]][diag[1]])\n",
    "        edge_hit = False\n",
    "        while not edge_hit:\n",
    "            try:\n",
    "                # Up and left one to coordinates\n",
    "                diag = diag[0] - 1, diag[1] + 1\n",
    "                if diag[0] < 1 or diag[1] < 1:\n",
    "                    edge_hit = True\n",
    "                diagonal += str(grid[diag[0]][diag[1]])\n",
    "            except:\n",
    "                edge_hit = True\n",
    "        total += len(re.findall(regex, diagonal, overlapped=True))   \n",
    "    print(f\"Total: {total}\")\n",
    "\n",
    "count_xmas(copy_of)"
   ]
  },
  {
   "cell_type": "markdown",
   "id": "c5eccbdf",
   "metadata": {},
   "source": [
    "--- Part Two ---"
   ]
  },
  {
   "cell_type": "code",
   "execution_count": 5,
   "id": "8e66eca2-1581-40b3-b18c-8077d1bd0610",
   "metadata": {},
   "outputs": [
    {
     "name": "stdout",
     "output_type": "stream",
     "text": [
      "1866\n"
     ]
    }
   ],
   "source": [
    "def grid_check(grid):\n",
    "    # Checks a 3x3 grid for MAS crosses.\n",
    "    if grid[1][1] == \"A\":\n",
    "        # Speed up by ownly checking potentialy valid grids with \"A\" in the centre.\n",
    "        diag_1 = grid[0][0], grid[2][2]\n",
    "        if \"S\" in diag_1 and \"M\" in diag_1:\n",
    "            diag_2 = grid[0][2], grid[2][0]\n",
    "            if \"S\" in diag_2 and \"M\" in diag_2:\n",
    "                return True\n",
    "    return False\n",
    "\n",
    "# Grid search\n",
    "def grid_search(g):\n",
    "    # Check evey 3x3 grid possible in the wordsearch for MAS crosses.\n",
    "    mas_crosses = 0 # Variable to count MAS crosses.\n",
    "    for row in range(len(g)):\n",
    "        for col in range(len(g)):\n",
    "            try:\n",
    "                grid = [[g[row][col], g[row][col+1], g[row][col+2]], \\\n",
    "                        [g[row+1][col], g[row+1][col+1], g[row+1][col+2]], \\\n",
    "                        [g[row+2][col], g[row+2][col+1], g[row+2][col+2]]]\n",
    "                mas_crosses += grid_check(grid)\n",
    "            except:\n",
    "                pass\n",
    "    return mas_crosses\n",
    "\n",
    "print(grid_search(copy_of))"
   ]
  }
 ],
 "metadata": {
  "kernelspec": {
   "display_name": "Python 3 (ipykernel)",
   "language": "python",
   "name": "python3"
  },
  "language_info": {
   "codemirror_mode": {
    "name": "ipython",
    "version": 3
   },
   "file_extension": ".py",
   "mimetype": "text/x-python",
   "name": "python",
   "nbconvert_exporter": "python",
   "pygments_lexer": "ipython3",
   "version": "3.9.7"
  }
 },
 "nbformat": 4,
 "nbformat_minor": 5
}
