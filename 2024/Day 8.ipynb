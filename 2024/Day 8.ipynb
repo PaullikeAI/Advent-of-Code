{
 "cells": [
  {
   "cell_type": "markdown",
   "id": "80144f8b",
   "metadata": {},
   "source": [
    "##### --- Day 8: Resonant Collinearity ---\n",
    "\n",
    "--- Part One ---"
   ]
  },
  {
   "cell_type": "code",
   "execution_count": 87,
   "id": "0af0b428",
   "metadata": {},
   "outputs": [],
   "source": [
    "import itertools\n",
    "\n",
    "file = open(\"day_8.txt\", \"r\")\n",
    "content = [i.strip() for i in file.readlines()]\n",
    "\n",
    "# Scan for unique letters and numbers (lower and uppercase) and get their positions.\n",
    "towers = {}\n",
    "for r_ind,r in enumerate(content):\n",
    "    for c_ind, c in enumerate(r):\n",
    "        if c != \".\":     \n",
    "            if c not in towers.keys():\n",
    "                towers[c] = [[r_ind, c_ind]]\n",
    "            else:\n",
    "                towers[c].append([r_ind, c_ind])\n",
    "        \n",
    "tower_pairs = {}\n",
    "for symbol in towers:\n",
    "    # For each symbol create a list of pairs of towers. These will be used to calculate the antinodes. \n",
    "    tower_pairs[symbol] = list(itertools.combinations(towers[symbol], 2))"
   ]
  },
  {
   "cell_type": "code",
   "execution_count": 81,
   "id": "24e5c583",
   "metadata": {},
   "outputs": [],
   "source": [
    "def calculate_antinodes(tower_pair):\n",
    "    # Given a pair of towers, calculate a pair of antinodes.\n",
    "    tower_1 = tower_pair[0]\n",
    "    tower_2 = tower_pair[1]\n",
    "    # Calculate vector between the two towers\n",
    "    v = tower_2[0] - tower_1[0], tower_2[1] - tower_1[1]\n",
    "    antinode_1 = tower_1[0] - v[0], tower_1[1] - v[1]\n",
    "    antinode_2 = tower_2[0] + v[0], tower_2[1] + v[1]\n",
    "    return antinode_1, antinode_2\n",
    "\n",
    "def in_area(the_map,antinode):\n",
    "    # return if the antinode is within the map.\n",
    "    if antinode[0] < 0 or antinode[1] < 0:\n",
    "        # Negative index means out of bounds\n",
    "        return False\n",
    "    if antinode[0] > len(the_map) - 1 or antinode[1] > len(the_map[0]) - 1:\n",
    "        return False\n",
    "    return True"
   ]
  },
  {
   "cell_type": "code",
   "execution_count": 88,
   "id": "fee0fb9a",
   "metadata": {},
   "outputs": [
    {
     "name": "stdout",
     "output_type": "stream",
     "text": [
      "400\n"
     ]
    }
   ],
   "source": [
    "antinode_positions = []\n",
    "for symbol in tower_pairs:\n",
    "    for pair in tower_pairs[symbol]:\n",
    "        # Calculate antinode positions for each pair\n",
    "        an_1, an_2 = calculate_antinodes(pair)\n",
    "        # If antinode is not within the area, do not add it to the tower_positions list.\n",
    "        if in_area(content ,an_1):\n",
    "            antinode_positions.append(an_1)\n",
    "        if in_area(content, an_2):\n",
    "            antinode_positions.append(an_2)\n",
    "\n",
    "# Convert to a set to strip out duplicates.\n",
    "print(len(set(antinode_positions)))"
   ]
  },
  {
   "cell_type": "markdown",
   "id": "36d75b80",
   "metadata": {},
   "source": [
    "--- Part Two ---"
   ]
  },
  {
   "cell_type": "code",
   "execution_count": 92,
   "id": "539774d5",
   "metadata": {},
   "outputs": [
    {
     "name": "stdout",
     "output_type": "stream",
     "text": [
      "1280\n"
     ]
    }
   ],
   "source": [
    "def calculate_all_antinodes(tower_pair, the_map):\n",
    "    tower_1 = tower_pair[0]\n",
    "    tower_2 = tower_pair[1]\n",
    "    anti_nodes = []\n",
    "    # Calculate vector between the two towers.\n",
    "    v = tower_2[0] - tower_1[0], tower_2[1] - tower_1[1]\n",
    "    \n",
    "    # Calculate all antinodes in the area.\n",
    "    while True:\n",
    "        antinode_1 = tower_1[0] - v[0], tower_1[1] - v[1]\n",
    "        if in_area(the_map, antinode_1):       \n",
    "            anti_nodes.append(antinode_1)\n",
    "            tower_1 = antinode_1\n",
    "        else:\n",
    "            break\n",
    "    while True:\n",
    "        antinode_2 = tower_2[0] + v[0], tower_2[1] + v[1]\n",
    "        if in_area(the_map, antinode_2):       \n",
    "            anti_nodes.append(antinode_2)\n",
    "            tower_2 = antinode_2\n",
    "        else:\n",
    "            break\n",
    "    \n",
    "    return anti_nodes\n",
    "\n",
    "antinode_positions = []\n",
    "for symbol in tower_pairs:\n",
    "    for pair in tower_pairs[symbol]:\n",
    "        # Calculate antinode positions for each pair.\n",
    "        antinodes = calculate_all_antinodes(pair, content)\n",
    "        for n in antinodes:\n",
    "            antinode_positions.append(n)\n",
    "\n",
    "# Add tower positions.\n",
    "for symbol in towers:\n",
    "    for t in towers[symbol]:\n",
    "        antinode_positions.append(tuple(t))\n",
    "\n",
    "# Convert to a set to strip out duplicates.\n",
    "antinode_positions = set(antinode_positions)\n",
    "print(len(antinode_positions))"
   ]
  }
 ],
 "metadata": {
  "kernelspec": {
   "display_name": "Python 3 (ipykernel)",
   "language": "python",
   "name": "python3"
  },
  "language_info": {
   "codemirror_mode": {
    "name": "ipython",
    "version": 3
   },
   "file_extension": ".py",
   "mimetype": "text/x-python",
   "name": "python",
   "nbconvert_exporter": "python",
   "pygments_lexer": "ipython3",
   "version": "3.9.7"
  }
 },
 "nbformat": 4,
 "nbformat_minor": 5
}
