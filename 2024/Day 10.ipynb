{
 "cells": [
  {
   "cell_type": "markdown",
   "id": "c39017a6",
   "metadata": {},
   "source": [
    "##### --- Day 10: Hoof It ---\n",
    "\n",
    "--- Part One ---"
   ]
  },
  {
   "cell_type": "code",
   "execution_count": 1,
   "id": "259f5fa7",
   "metadata": {},
   "outputs": [],
   "source": [
    "file = open(\"day_10.txt\", \"r\")\n",
    "content = [i.strip() for i in file.readlines()]\n",
    "\n",
    "# Split input into a grid of integers.\n",
    "top_map = [[int(i) for i in j] for j in content]\n",
    "\n",
    "# Find each 0 in the map.\n",
    "trailheads = []\n",
    "for r_ind, row in enumerate(top_map):\n",
    "    for c_ind, n in enumerate(row):\n",
    "        if n == 0:\n",
    "            trailheads.append([r_ind, c_ind])"
   ]
  },
  {
   "cell_type": "code",
   "execution_count": 2,
   "id": "a0928085",
   "metadata": {},
   "outputs": [
    {
     "name": "stdout",
     "output_type": "stream",
     "text": [
      "624\n"
     ]
    }
   ],
   "source": [
    "def upper_levels(positions, height):\n",
    "    next_positions = []\n",
    "    for pos in positions:\n",
    "        # Check up, down, left right for next number.\n",
    "        if top_map[pos[0]-1][pos[1]] == height:\n",
    "            next_positions.append((pos[0]-1, pos[1]))\n",
    "        if top_map[pos[0]][pos[1]-1] == height:\n",
    "            next_positions.append((pos[0], pos[1]-1))\n",
    "        try:\n",
    "            if top_map[pos[0]][pos[1]+1] == height:\n",
    "                next_positions.append((pos[0], pos[1]+1))\n",
    "        except:\n",
    "            pass\n",
    "        try:\n",
    "            if top_map[pos[0]+1][pos[1]] == height:\n",
    "                next_positions.append((pos[0]+1, pos[1]))\n",
    "        except:\n",
    "            pass\n",
    "\n",
    "    # Filter out any positions with negative numbers.\n",
    "    next_positions = [i for i in next_positions if i[0]>=0 and i[1]>=0]\n",
    "    return next_positions\n",
    "\n",
    "total = 0\n",
    "for head in trailheads:\n",
    "    positions = None\n",
    "    for i in range(1,10):\n",
    "        if positions == None: \n",
    "            positions = upper_levels([head], i)\n",
    "        else:\n",
    "            positions = upper_levels(positions, i)\n",
    "    total += len(set(positions))\n",
    "\n",
    "print(total)"
   ]
  },
  {
   "cell_type": "markdown",
   "id": "477a826c-ece4-42b2-96e6-59127b647e19",
   "metadata": {},
   "source": [
    "--- Part Two ---"
   ]
  },
  {
   "cell_type": "code",
   "execution_count": 3,
   "id": "6001bb6c",
   "metadata": {},
   "outputs": [
    {
     "name": "stdout",
     "output_type": "stream",
     "text": [
      "1483\n"
     ]
    }
   ],
   "source": [
    "total = 0\n",
    "for head in trailheads:\n",
    "    positions = None\n",
    "    for i in range(1,10):\n",
    "        if positions == None: \n",
    "            positions = upper_levels([head], i)\n",
    "        else:\n",
    "            positions = upper_levels(positions, i)\n",
    "    total += len(positions)\n",
    "\n",
    "print(total)"
   ]
  }
 ],
 "metadata": {
  "kernelspec": {
   "display_name": "Python 3 (ipykernel)",
   "language": "python",
   "name": "python3"
  },
  "language_info": {
   "codemirror_mode": {
    "name": "ipython",
    "version": 3
   },
   "file_extension": ".py",
   "mimetype": "text/x-python",
   "name": "python",
   "nbconvert_exporter": "python",
   "pygments_lexer": "ipython3",
   "version": "3.9.7"
  }
 },
 "nbformat": 4,
 "nbformat_minor": 5
}
