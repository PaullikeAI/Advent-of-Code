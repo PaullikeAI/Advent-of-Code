{
 "cells": [
  {
   "cell_type": "markdown",
   "id": "e32bbe62",
   "metadata": {},
   "source": [
    "##### --- Day 6: Guard Gallivant ---\n",
    "\n",
    "--- Part One ---"
   ]
  },
  {
   "cell_type": "code",
   "execution_count": 77,
   "id": "5c401ba4-b7ea-44e2-81d1-bd4e195d3fe3",
   "metadata": {},
   "outputs": [
    {
     "name": "stdout",
     "output_type": "stream",
     "text": [
      "4776\n"
     ]
    }
   ],
   "source": [
    "file = open(\"day_6.txt\", \"r\")\n",
    "lab = file.readlines()\n",
    "\n",
    "def rotate_ninety(direction):\n",
    "    if direction == \"UP\":\n",
    "        return \"RIGHT\"\n",
    "    if direction == \"RIGHT\":\n",
    "        return \"DOWN\"\n",
    "    if direction == \"DOWN\":\n",
    "        return \"LEFT\"\n",
    "    if direction == \"LEFT\":\n",
    "        return \"UP\"\n",
    "\n",
    "def barrier_check(pos, direction, lab):\n",
    "    # Checks to see if there is a barrier in front of the guard.\n",
    "    try:\n",
    "        if direction == \"UP\" and lab[pos[0]-1][pos[1]] == \"#\":\n",
    "            return True\n",
    "        if direction == \"RIGHT\" and lab[pos[0]][pos[1]+1] == \"#\":\n",
    "            return True\n",
    "        if direction == \"DOWN\" and lab[pos[0]+1][pos[1]] == \"#\":\n",
    "            return True\n",
    "        if direction == \"LEFT\" and lab[pos[0]][pos[1]-1] == \"#\":\n",
    "            return True\n",
    "    except:\n",
    "        # If index exception, must be out of bounds, so no barrier.\n",
    "        return False\n",
    "    return False\n",
    "\n",
    "def move(pos, direction, lab):\n",
    "    # Move guard and check if he has walked out of the area.\n",
    "    out = False\n",
    "    try:\n",
    "        if direction == \"UP\":\n",
    "            new_position = pos[0]-1, pos[1]\n",
    "        if direction == \"RIGHT\":\n",
    "            new_position = pos[0], pos[1]+1\n",
    "        if direction == \"DOWN\":\n",
    "            new_position= pos[0]+1, pos[1]\n",
    "        if direction == \"LEFT\":\n",
    "            new_position = pos[0], pos[1]-1\n",
    "\n",
    "        # Check if position is in the lab.\n",
    "        check = lab[new_position[0]][new_position[1]]\n",
    "        if new_position[0] < 0 or new_position[1] < 0:\n",
    "            out = True\n",
    "    except:\n",
    "        # If index exception, must be out of bounds.\n",
    "        out = True\n",
    "        new_position = False\n",
    "    return new_position, out\n",
    "\n",
    "# Find position of guard\n",
    "position = [\"row\", \"column\"]\n",
    "position[0] = [True if \"^\" in r else False for r in lab].index(True)\n",
    "position[1] = [True if x == \"^\" else False for x in lab[position[0]]].index(True)\n",
    "\n",
    "positions = set()\n",
    "positions.add(tuple(position))\n",
    "out = False\n",
    "direction = \"UP\"\n",
    "while not out:\n",
    "    if barrier_check(position, direction, lab):\n",
    "        # Rotate guard if barrier in the way.\n",
    "        direction = rotate_ninety(direction)\n",
    "    \n",
    "    # Take action\n",
    "    new_position, out_map = move(position, direction, lab)\n",
    "    \n",
    "    if out_map:\n",
    "        out = True\n",
    "    else:\n",
    "        positions.add(new_position)\n",
    "        position = new_position\n",
    "\n",
    "print(len(positions))"
   ]
  },
  {
   "cell_type": "markdown",
   "id": "2314bcb7",
   "metadata": {},
   "source": [
    "--- Part Two ---"
   ]
  },
  {
   "cell_type": "code",
   "execution_count": 78,
   "id": "ea7b71c4",
   "metadata": {},
   "outputs": [
    {
     "name": "stdout",
     "output_type": "stream",
     "text": [
      "5203\n"
     ]
    }
   ],
   "source": [
    "#lab = test\n",
    "\n",
    "position = [\"row\", \"column\"]\n",
    "position[0] = [True if \"^\" in r else False for r in lab].index(True)\n",
    "position[1] = [True if x == \"^\" else False for x in lab[position[0]]].index(True)\n",
    "\n",
    "positions = []\n",
    "out = False\n",
    "direction = \"UP\"\n",
    "while not out:\n",
    "    if barrier_check(position, direction, lab):\n",
    "        direction = rotate_ninety(direction)\n",
    "    \n",
    "    # Take action\n",
    "    new_position, out_map = move(position, direction, lab)\n",
    "    \n",
    "    if out_map:\n",
    "        out = True\n",
    "    else:\n",
    "        positions.append([new_position, direction])\n",
    "        position = new_position\n",
    "\n",
    "print(len(positions)) # Now positions is a list of each position and the direction the guard was facing."
   ]
  },
  {
   "cell_type": "code",
   "execution_count": 82,
   "id": "3f4c4b5c",
   "metadata": {},
   "outputs": [
    {
     "name": "stdout",
     "output_type": "stream",
     "text": [
      "1586\n"
     ]
    }
   ],
   "source": [
    "# For each position in the list, first rotate to the right then run it.\n",
    "# If it ends up in any previous position, then it is a loop.\n",
    "obstacle_positions = 0\n",
    "for ind, p in enumerate(positions):\n",
    "    position = p[0]\n",
    "    direction = p[1]\n",
    "    that = [position, direction]\n",
    "    \n",
    "    # Place barrier in from of the agent.\n",
    "    direction = rotate_ninety(direction)\n",
    "    looped = False\n",
    "    out = False\n",
    "    while not out or looped:\n",
    "        if barrier_check(position, direction, lab):\n",
    "            direction = rotate_ninety(direction)\n",
    "\n",
    "        # Take action\n",
    "        new_position, out_map = move(position, direction, lab)\n",
    "        \n",
    "        that = [new_position, direction]\n",
    "        \n",
    "        if [new_position, direction] in positions[:ind-1]:\n",
    "            obstacle_positions += 1\n",
    "            looped = True\n",
    "            break\n",
    "        \n",
    "        if out_map:\n",
    "            out = True\n",
    "            break\n",
    "        else:\n",
    "            position = new_position\n",
    "\n",
    "print(obstacle_positions)"
   ]
  }
 ],
 "metadata": {
  "kernelspec": {
   "display_name": "Python 3 (ipykernel)",
   "language": "python",
   "name": "python3"
  },
  "language_info": {
   "codemirror_mode": {
    "name": "ipython",
    "version": 3
   },
   "file_extension": ".py",
   "mimetype": "text/x-python",
   "name": "python",
   "nbconvert_exporter": "python",
   "pygments_lexer": "ipython3",
   "version": "3.9.7"
  }
 },
 "nbformat": 4,
 "nbformat_minor": 5
}
