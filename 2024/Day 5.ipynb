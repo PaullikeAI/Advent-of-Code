{
 "cells": [
  {
   "cell_type": "markdown",
   "id": "82ad151f",
   "metadata": {},
   "source": [
    "##### --- Day 5: Print Queue ---\n",
    "\n",
    "--- Part One ---"
   ]
  },
  {
   "cell_type": "code",
   "execution_count": 75,
   "id": "10cd35fe",
   "metadata": {},
   "outputs": [],
   "source": [
    "import math\n",
    "\n",
    "file = open(\"day_5_1.txt\", \"r\")\n",
    "page_order = file.readlines()\n",
    "file = open(\"day_5_2.txt\", \"r\")\n",
    "pages = file.readlines()\n",
    "\n",
    "# Split page orders into tuples\n",
    "p_order = []\n",
    "for p in page_order:\n",
    "    split_ = p.split(\"|\")\n",
    "    p_order.append((int(split_[0]), int(split_[1].strip())))\n",
    "\n",
    "updates = [[int(x) for x in page] for page in [p.strip().split(\",\") for p in pages]]"
   ]
  },
  {
   "cell_type": "code",
   "execution_count": 83,
   "id": "3655a564",
   "metadata": {},
   "outputs": [
    {
     "name": "stdout",
     "output_type": "stream",
     "text": [
      "4662\n"
     ]
    }
   ],
   "source": [
    "invalid = [] # List of invalid updates\n",
    "total = 0\n",
    "for up in updates:\n",
    "    valid = True\n",
    "    for o in p_order:\n",
    "        # Check if both pages present and get indexes.\n",
    "        try:\n",
    "            if up.index(o[0]) > up.index(o[1]):\n",
    "                # If in right order, add middle number to the total.\n",
    "                valid = False\n",
    "                break\n",
    "        except ValueError:\n",
    "            # One or both pages in the order ref are not in the update.\n",
    "            pass\n",
    "    if valid:\n",
    "        total += up[math.floor(len(up)/2)]\n",
    "    else:\n",
    "        invalid.append(up)\n",
    "        \n",
    "print(total)"
   ]
  },
  {
   "cell_type": "markdown",
   "id": "c6bba9d4",
   "metadata": {},
   "source": [
    "--- Part Two ---"
   ]
  },
  {
   "cell_type": "code",
   "execution_count": 84,
   "id": "9180279a",
   "metadata": {},
   "outputs": [
    {
     "name": "stdout",
     "output_type": "stream",
     "text": [
      "5900\n"
     ]
    }
   ],
   "source": [
    "def create_rule_map(rules):\n",
    "    # Create a dictionary containg all the numbers higher or lower than each number in the order set.\n",
    "    # Format of dictionary: {\"Number\": [numbers that come before], [numbers that come after]}\n",
    "    rule_map = {}\n",
    "    for (a, b) in rules:\n",
    "        if a not in rule_map.keys():\n",
    "            rule_map[a] = ([], [])\n",
    "        if b not in rule_map.keys():\n",
    "            rule_map[b] = ([], [])\n",
    "        rule_map[a][1].append(b)\n",
    "        rule_map[b][0].append(a)\n",
    "    return rule_map\n",
    "\n",
    "rule_map = create_rule_map(p_order)\n",
    "total = 0\n",
    "for u in invalid:\n",
    "    # Create lists of all the numbers that should be above or below the number in the update.\n",
    "    down_all = []\n",
    "    up_all = []\n",
    "    for n in u:\n",
    "        down_all += rule_map[n][0]\n",
    "        up_all += rule_map[n][1]\n",
    "    \n",
    "    # Calculate relative weighting of each number in the list.\n",
    "    weights_list = []\n",
    "    for n in u:\n",
    "        weights_list.append(up_all.count(n) - down_all.count(n)) \n",
    "\n",
    "    # Find middle weight and add to total.\n",
    "    middle_index = sorted(weights_list.copy())[math.floor(len(weights_list)/2)]\n",
    "    total += u[weights_list.index(middle_index)]\n",
    "    \n",
    "print(total)"
   ]
  }
 ],
 "metadata": {
  "kernelspec": {
   "display_name": "Python 3 (ipykernel)",
   "language": "python",
   "name": "python3"
  },
  "language_info": {
   "codemirror_mode": {
    "name": "ipython",
    "version": 3
   },
   "file_extension": ".py",
   "mimetype": "text/x-python",
   "name": "python",
   "nbconvert_exporter": "python",
   "pygments_lexer": "ipython3",
   "version": "3.9.7"
  }
 },
 "nbformat": 4,
 "nbformat_minor": 5
}
