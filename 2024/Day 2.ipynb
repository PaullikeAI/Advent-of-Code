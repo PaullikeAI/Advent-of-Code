{
 "cells": [
  {
   "cell_type": "markdown",
   "id": "453bd883",
   "metadata": {},
   "source": [
    "##### --- Day 2: Red-Nosed Reports ---\n",
    "\n",
    "--- Part One ---"
   ]
  },
  {
   "cell_type": "code",
   "execution_count": 62,
   "id": "354554e2",
   "metadata": {},
   "outputs": [
    {
     "name": "stdout",
     "output_type": "stream",
     "text": [
      "1000\n",
      "[20, 21, 24, 25, 27, 29, 27]\n"
     ]
    }
   ],
   "source": [
    "import pandas as pd\n",
    "\n",
    "# Fetch data\n",
    "input_data = pd.read_excel('day_2_input.xlsx', sheet_name='Sheet1')['Input'].tolist()\n",
    "\n",
    "# Parse data\n",
    "test_data = [[int(j) for j in i.split()] for i in input_data]\n",
    "print(len(test_data))\n",
    "print(test_data[0])"
   ]
  },
  {
   "cell_type": "code",
   "execution_count": 63,
   "id": "f04660ce",
   "metadata": {},
   "outputs": [
    {
     "name": "stdout",
     "output_type": "stream",
     "text": [
      "526\n"
     ]
    }
   ],
   "source": [
    "valid = 0\n",
    "# Count number of valid lines.\n",
    "for b in test_data:\n",
    "    if (all(b[i] < b[i+1] <= b[i]+3 for i in range(len(b) - 1))) or (all(b[i] > b[i+1] >= b[i]-3 for i in range(len(b) - 1))):\n",
    "        valid += 1\n",
    "print(valid)"
   ]
  },
  {
   "cell_type": "markdown",
   "id": "51ff867c",
   "metadata": {},
   "source": [
    "--- Part Two ---"
   ]
  },
  {
   "cell_type": "code",
   "execution_count": 69,
   "id": "7eb03110",
   "metadata": {},
   "outputs": [
    {
     "name": "stdout",
     "output_type": "stream",
     "text": [
      "566\n"
     ]
    }
   ],
   "source": [
    "valid = 0\n",
    "# Count number of valid lines.\n",
    "for b in test_data:\n",
    "    if (all(b[i] < b[i+1] <= b[i]+3 for i in range(len(b) - 1))) or (all(b[i] > b[i+1] >= b[i]-3 for i in range(len(b) - 1))):\n",
    "        valid += 1\n",
    "    else:\n",
    "        # Account for Problem Dampener.\n",
    "        for r in range(len(b)):\n",
    "            bc = b.copy()\n",
    "            del bc[r]\n",
    "            if (all(bc[i] < bc[i+1] <= bc[i]+3 for i in range(len(bc) - 1))) or (all(bc[i] > bc[i+1] >= bc[i]-3 for i in range(len(bc) - 1))):\n",
    "                valid += 1\n",
    "                break\n",
    "        \n",
    "print(valid)"
   ]
  }
 ],
 "metadata": {
  "kernelspec": {
   "display_name": "Python 3 (ipykernel)",
   "language": "python",
   "name": "python3"
  },
  "language_info": {
   "codemirror_mode": {
    "name": "ipython",
    "version": 3
   },
   "file_extension": ".py",
   "mimetype": "text/x-python",
   "name": "python",
   "nbconvert_exporter": "python",
   "pygments_lexer": "ipython3",
   "version": "3.9.7"
  }
 },
 "nbformat": 4,
 "nbformat_minor": 5
}
