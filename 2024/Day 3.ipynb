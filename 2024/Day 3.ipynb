{
 "cells": [
  {
   "cell_type": "markdown",
   "id": "01dcd91b",
   "metadata": {},
   "source": [
    "##### --- Day 3: Mull It Over ---\n",
    "\n",
    "--- Part One ---"
   ]
  },
  {
   "cell_type": "code",
   "execution_count": 3,
   "id": "1cf6f68e-595b-49a6-a88f-5c5b91898c37",
   "metadata": {},
   "outputs": [
    {
     "name": "stdout",
     "output_type": "stream",
     "text": [
      "174960292\n"
     ]
    }
   ],
   "source": [
    "import regex as re\n",
    "\n",
    "def mul(x,y):\n",
    "    return x * y\n",
    "\n",
    "print(sum(eval(\"+\".join(re.findall(\"(mul\\(\\d+,\\d+\\))\", line))) for line in open(\"day_3.txt\", \"r\").readlines()))"
   ]
  },
  {
   "cell_type": "markdown",
   "id": "9c20ebe3",
   "metadata": {},
   "source": [
    "--- Part Two ---"
   ]
  },
  {
   "cell_type": "code",
   "execution_count": 22,
   "id": "3b289b03",
   "metadata": {},
   "outputs": [],
   "source": [
    "def do():\n",
    "    return \"x\"\n",
    "\n",
    "def dont():\n",
    "    return \"y\""
   ]
  },
  {
   "cell_type": "code",
   "execution_count": 28,
   "id": "3c744fb8-89b4-4b54-9c95-f6c4b8a326e1",
   "metadata": {},
   "outputs": [],
   "source": [
    "file = open(\"day_3.txt\", \"r\")\n",
    "content = file.readlines()"
   ]
  },
  {
   "cell_type": "code",
   "execution_count": 45,
   "id": "ea6263f0-68d7-47fe-968a-a2d99f638b41",
   "metadata": {},
   "outputs": [
    {
     "name": "stdout",
     "output_type": "stream",
     "text": [
      "56275602\n"
     ]
    }
   ],
   "source": [
    "total = 0\n",
    "enabled = True\n",
    "for line in content:\n",
    "    matches = re.findall(\"(mul\\(\\d+,\\d+\\)|do\\(\\)|don\\'t\\(\\))\", line)\n",
    "    evaled = [eval(i) for i in [x if x != \"don't()\" else \"dont()\" for x in matches]]\n",
    "    for i in evaled:\n",
    "        if i == \"x\":\n",
    "            enabled = True\n",
    "        elif i == \"y\":\n",
    "            enabled = False\n",
    "        elif enabled:\n",
    "            total += i\n",
    "print(total)"
   ]
  }
 ],
 "metadata": {
  "kernelspec": {
   "display_name": "Python 3 (ipykernel)",
   "language": "python",
   "name": "python3"
  },
  "language_info": {
   "codemirror_mode": {
    "name": "ipython",
    "version": 3
   },
   "file_extension": ".py",
   "mimetype": "text/x-python",
   "name": "python",
   "nbconvert_exporter": "python",
   "pygments_lexer": "ipython3",
   "version": "3.9.7"
  }
 },
 "nbformat": 4,
 "nbformat_minor": 5
}
