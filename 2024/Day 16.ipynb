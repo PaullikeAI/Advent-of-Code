{
 "cells": [
  {
   "cell_type": "markdown",
   "id": "f1c6eb4c",
   "metadata": {},
   "source": [
    "##### --- Day 16 --- \n",
    "\n",
    "--- Part One ---\n",
    "\n",
    "The journey ends, as Christmas, university work and family time come in to play."
   ]
  },
  {
   "cell_type": "code",
   "execution_count": 142,
   "id": "03c4c2f1",
   "metadata": {},
   "outputs": [],
   "source": [
    "import heapq\n",
    "import time\n",
    "\n",
    "file = open(\"day_16.txt\", \"r\")\n",
    "the_map = [i.strip() for i in file.readlines()]"
   ]
  },
  {
   "cell_type": "code",
   "execution_count": 56,
   "id": "e633bd27",
   "metadata": {},
   "outputs": [
    {
     "name": "stdout",
     "output_type": "stream",
     "text": [
      "141\n",
      "141\n",
      "S\n"
     ]
    }
   ],
   "source": [
    "print(len(the_map))\n",
    "print(len(the_map[0]))\n",
    "print(the_map[139][1])"
   ]
  },
  {
   "cell_type": "code",
   "execution_count": 138,
   "id": "636c5a15",
   "metadata": {},
   "outputs": [],
   "source": [
    "the_map = [\"###############\",\n",
    "\"#.......#....E#\",\n",
    "\"#.#.###.#.###.#\",\n",
    "\"#.....#.#...#.#\",\n",
    "\"#.###.#####.#.#\",\n",
    "\"#.#.#.......#.#\",\n",
    "\"#.#.#####.###.#\",\n",
    "\"#...........#.#\",\n",
    "\"###.#.#####.#.#\",\n",
    "\"#...#.....#.#.#\",\n",
    "\"#.#.#.###.#.#.#\",\n",
    "\"#.....#...#.#.#\",\n",
    "\"#.###.#.#.#.#.#\",\n",
    "\"#S..#.....#...#\",\n",
    "\"###############\"]"
   ]
  },
  {
   "cell_type": "code",
   "execution_count": 148,
   "id": "32567491",
   "metadata": {},
   "outputs": [],
   "source": [
    "# Implement Dikstras algorithm with S as the starting node and E as final node.\n",
    "def get_neighbours(node, the_map):\n",
    "    neighbours = []\n",
    "    cost, y_n, x_n, n_d = node\n",
    "    posits = [(-1, 0, \"^\"), (1, 0, \"v\"), (0, -1, \"<\"), (0, 1, \">\")]\n",
    "    for pos in posits:\n",
    "        path_cost = 1001\n",
    "        y, x, d = pos\n",
    "        if d == n_d:\n",
    "            # No turn cost for forward move.\n",
    "            path_cost = 1\n",
    "        if d + n_d in [\"^v\", \"v^\", \"<>\", \"><\"]:\n",
    "            # Never go backwards. # TODO - \"not in\" and delete else:\n",
    "            #print(\"Backwards is \", pos, \"for node\", node)\n",
    "            pass\n",
    "        else:\n",
    "            if the_map[y_n + y][x_n + x] in \".E\":      \n",
    "                #print(\"Appending\", (cost + path_cost, y_n + y, x_n + x, d))\n",
    "                neighbours.append((cost + path_cost, y_n + y, x_n + x, d))\n",
    "    return neighbours"
   ]
  },
  {
   "cell_type": "code",
   "execution_count": 149,
   "id": "14eecb06",
   "metadata": {},
   "outputs": [
    {
     "name": "stdout",
     "output_type": "stream",
     "text": [
      "End found, cost is 85420\n",
      "0.060495615005493164\n"
     ]
    }
   ],
   "source": [
    "start = (0, 139, 1, \">\") # Node format (cost, y, x, \">\")\n",
    "\n",
    "s = time.time()\n",
    "nodes = []\n",
    "\n",
    "nodes.append(start)\n",
    "heapq.heapify(nodes)\n",
    "\n",
    "paths = {(139, 1, \">\"): [(139, 1, \">\")]}\n",
    "checked = set()\n",
    "end_found = False\n",
    "iterations = 0\n",
    "while not end_found:\n",
    "    iterations += 1\n",
    "    current_node = heapq.heappop(nodes)\n",
    "    if current_node[1:] not in checked:\n",
    "        checked.add(current_node[1:])\n",
    "        neighbours = get_neighbours(current_node, the_map)\n",
    "        if neighbours:\n",
    "            # Check if any node is end of maze.\n",
    "            for n in neighbours:\n",
    "                if n not in checked:\n",
    "                    if the_map[n[1]][n[2]] == \"E\":\n",
    "                        print(\"End found, cost is\", n[0])\n",
    "                        end_found = True\n",
    "                    else:\n",
    "                        heapq.heappush(nodes, n)\n",
    "                    \n",
    "e = time.time()\n",
    "print(e - s)"
   ]
  },
  {
   "cell_type": "code",
   "execution_count": 146,
   "id": "273fbf1a",
   "metadata": {},
   "outputs": [
    {
     "name": "stdout",
     "output_type": "stream",
     "text": [
      "63\n",
      "16119\n"
     ]
    }
   ],
   "source": [
    "print(len(nodes))\n",
    "print(len(checked))"
   ]
  }
 ],
 "metadata": {
  "kernelspec": {
   "display_name": "Python 3 (ipykernel)",
   "language": "python",
   "name": "python3"
  },
  "language_info": {
   "codemirror_mode": {
    "name": "ipython",
    "version": 3
   },
   "file_extension": ".py",
   "mimetype": "text/x-python",
   "name": "python",
   "nbconvert_exporter": "python",
   "pygments_lexer": "ipython3",
   "version": "3.9.7"
  }
 },
 "nbformat": 4,
 "nbformat_minor": 5
}
