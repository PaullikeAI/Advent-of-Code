{
 "cells": [
  {
   "cell_type": "markdown",
   "id": "deb57330-75b8-4d3d-9513-a5903192386f",
   "metadata": {},
   "source": [
    "##### --- Day 15: Warehouse Woes ---\n",
    "\n",
    "--- Part One ---"
   ]
  },
  {
   "cell_type": "code",
   "execution_count": 1,
   "id": "c280f5f0",
   "metadata": {},
   "outputs": [],
   "source": [
    "import itertools\n",
    "\n",
    "file = open(\"day_15_r.txt\", \"r\")\n",
    "instructions = \"\".join([i.strip() for i in file.readlines()])\n",
    "\n",
    "file = open(\"day_15_m.txt\", \"r\")\n",
    "warehouse = [[i for i in j.strip()] for j in file.readlines()]"
   ]
  },
  {
   "cell_type": "code",
   "execution_count": 2,
   "id": "0e7a3b47-7de3-4c1d-a73c-ef74a7e337cd",
   "metadata": {},
   "outputs": [
    {
     "name": "stdout",
     "output_type": "stream",
     "text": [
      "1412971\n"
     ]
    }
   ],
   "source": [
    "def next_pos(pos, d):\n",
    "    # Returns next position, given current position and a direction.\n",
    "    if d == \"^\":\n",
    "        return (pos[0]-1, pos[1])\n",
    "    if d == \"v\":\n",
    "        return (pos[0]+1, pos[1])\n",
    "    if d == \"<\":\n",
    "        return (pos[0], pos[1]-1)\n",
    "    if d == \">\":\n",
    "        return (pos[0], pos[1]+1)\n",
    "\n",
    "def is_pushable(pos, direction, the_map, crates_pushed):\n",
    "    # Recursively check if the crate is pushable.\n",
    "    next_y, next_x = next_pos(pos, d)\n",
    "    if warehouse[next_y][next_x] == \"#\":\n",
    "        # Not pushable\n",
    "        return 0\n",
    "    elif warehouse[next_y][next_x] == \".\":\n",
    "        return crates_pushed\n",
    "    else:\n",
    "        # Add one to crates pushed and keep pushing.\n",
    "        crates_pushed += 1\n",
    "        new_pos = next_y, next_x\n",
    "        return is_pushable(new_pos, direction, the_map, crates_pushed)\n",
    "\n",
    "def calculate_gps(a_map):\n",
    "    gps = 0\n",
    "    for y_ind, r in enumerate(a_map):\n",
    "        for x_ind, l in enumerate(r):\n",
    "            if l == \"O\" or l == \"[\":\n",
    "                gps += 100 * y_ind + x_ind\n",
    "    print(gps)\n",
    "\n",
    "# Find current position of the robot.\n",
    "for y_ind, r in enumerate(warehouse):\n",
    "    for x_ind, l in enumerate(r):\n",
    "        if l == \"@\":\n",
    "            current_pos = [y_ind, x_ind]\n",
    "            \n",
    "for d in instructions:\n",
    "    next_y, next_x = next_pos(current_pos, d)\n",
    "    if warehouse[next_y][next_x] == \".\":\n",
    "        # Space is free, move to it.\n",
    "        warehouse[next_y][next_x] = \"@\"\n",
    "        warehouse[current_pos[0]][current_pos[1]] = \".\"\n",
    "        current_pos = (next_y, next_x)\n",
    "    elif warehouse[next_y][next_x] == \"#\":\n",
    "        # Imovable object, no movement.\n",
    "        pass\n",
    "    else:\n",
    "        # Crate encountered, check if pushable and push if needed.\n",
    "        if pushes := is_pushable(current_pos, d, warehouse, 0):\n",
    "            warehouse[next_y][next_x] = \"@\"\n",
    "            warehouse[current_pos[0]][current_pos[1]] = \".\"\n",
    "            current_pos = (next_y, next_x)\n",
    "            to_be_crate = current_pos\n",
    "            for i in range(pushes):\n",
    "                to_be_crate = next_pos(to_be_crate, d)\n",
    "            warehouse[to_be_crate[0]][to_be_crate[1]] = \"O\"\n",
    "\n",
    "calculate_gps(warehouse)   "
   ]
  },
  {
   "cell_type": "markdown",
   "id": "86fef7e2",
   "metadata": {},
   "source": [
    "--- Part Two ---"
   ]
  },
  {
   "cell_type": "code",
   "execution_count": 12,
   "id": "897ab874",
   "metadata": {},
   "outputs": [],
   "source": [
    "file = open(\"day_15_m.txt\", \"r\")\n",
    "warehouse = [_ for _ in file.readlines()]\n",
    "\n",
    "file = open(\"day_15_r.txt\", \"r\")\n",
    "instructions = \"\".join([i.strip() for i in file.readlines()])\n",
    "\n",
    "# Double widths and convert to grid format.\n",
    "warehouse = [i.replace(\"#\", \"##\").replace(\"O\", \"[]\").replace(\".\", \"..\").replace(\"@\", \"@.\") for i in warehouse]\n",
    "warehouse = [[i for i in j.strip()] for j in warehouse]"
   ]
  },
  {
   "cell_type": "code",
   "execution_count": 13,
   "id": "fff08a28-c9a6-49d2-8200-e4dc20f24e0b",
   "metadata": {},
   "outputs": [
    {
     "name": "stdout",
     "output_type": "stream",
     "text": [
      "1429299\n"
     ]
    }
   ],
   "source": [
    "current_pos = [24, 48]\n",
    "for d in instructions:\n",
    "    next_y, next_x = next_pos(current_pos, d)\n",
    "    if warehouse[next_y][next_x] == \".\":\n",
    "        # Space is free, move to it.\n",
    "        warehouse[next_y][next_x] = \"@\"\n",
    "        warehouse[current_pos[0]][current_pos[1]] = \".\"\n",
    "        current_pos = (next_y, next_x)\n",
    "    elif warehouse[next_y][next_x] == \"#\":\n",
    "        # Imovable object, no movement.\n",
    "        pass\n",
    "    else:\n",
    "        # Crate encountered, check if pushable and push if needed.\n",
    "        if d in \"<>\":\n",
    "            if pushes := is_pushable(current_pos, d, warehouse, 0):\n",
    "                # Move the crates left or right.\n",
    "                if d == \"<\":\n",
    "                    warehouse[current_pos[0]][current_pos[1] + (-1*pushes) - 1 : current_pos[1] -1 ] = warehouse[current_pos[0]][current_pos[1] + (-1*pushes): current_pos[1]]\n",
    "                else:\n",
    "                    warehouse[current_pos[0]][current_pos[1]+2: current_pos[1] + pushes+2] = warehouse[current_pos[0]][current_pos[1]+1: current_pos[1] + pushes+1]\n",
    "                    \n",
    "                warehouse[next_y][next_x] = \"@\"\n",
    "                warehouse[current_pos[0]][current_pos[1]] = \".\"\n",
    "                current_pos = (next_y, next_x)\n",
    "        else:\n",
    "            if d ==  \"^\":\n",
    "                y_chng = -1\n",
    "            else:\n",
    "                y_chng = 1\n",
    "\n",
    "            # Find crates to move.\n",
    "            layers = vertical_crates(current_pos, d, warehouse)\n",
    "            \n",
    "            if layers:\n",
    "                # Move crates up or down.\n",
    "                for layer in layers[::-1]:\n",
    "                    for c in layer:\n",
    "                        warehouse[c[0][0]+y_chng][c[0][1]] = \"[\"\n",
    "                        warehouse[c[1][0]+y_chng][c[1][1]] = \"]\"\n",
    "                        warehouse[c[0][0]][c[0][1]] = \".\"\n",
    "                        warehouse[c[1][0]][c[1][1]] = \".\"\n",
    "\n",
    "                warehouse[next_y][next_x] = \"@\"\n",
    "                warehouse[current_pos[0]][current_pos[1]] = \".\"\n",
    "                current_pos = (next_y, next_x)\n",
    "\n",
    "calculate_gps(warehouse)"
   ]
  },
  {
   "cell_type": "code",
   "execution_count": 14,
   "id": "92ac09c6",
   "metadata": {},
   "outputs": [],
   "source": [
    "def vertical_crates(current_pos, d, warehouse):\n",
    "    # Check if the crate is pushable.\n",
    "    layers = [] # In format [ [ [[l1,c1],[l1,c1]], [l1,c2],[l1,c2] ], ... ]\n",
    "\n",
    "    # Put first crate in layers.\n",
    "    layers.append([crate_there(current_pos, d, warehouse)])\n",
    "    level = 0\n",
    "    while True:\n",
    "        new_layer = []\n",
    "        for crate in layers[level]:\n",
    "            for c in crate:\n",
    "                n_y, n_x = next_pos(c, d)\n",
    "                if warehouse[n_y][n_x] == \"#\":\n",
    "                    # Not pushable, return 0 crates to push.\n",
    "                    return 0\n",
    "                if crate_there((c[0],c[1]), d, warehouse):\n",
    "                    new_layer.append(crate_there((c[0],c[1]), d, warehouse))\n",
    "        if len(new_layer) > 0:\n",
    "            # Add layer of new crates and increase level after stripping out duplicate crates.\n",
    "            new_layer.sort()\n",
    "            layers.append(list(new_layer for new_layer,_ in itertools.groupby(new_layer)))\n",
    "            # Go up one level.\n",
    "            level += 1\n",
    "        else:\n",
    "            # No more crates, so return all of the crates scheduled to be pushed.\n",
    "            return layers\n",
    "        \n",
    "                            \n",
    "def crate_there(pos, d, warehouse):\n",
    "    # Return the two coordinates of a crate if one is above or below.\n",
    "    y, x = next_pos(pos, d)\n",
    "    if warehouse[y][x] == \"[\":\n",
    "        return ([y, x], [y, x+1])\n",
    "    if warehouse[y][x] == \"]\":  \n",
    "        return ([y, x-1], [y, x])\n",
    "    return False"
   ]
  }
 ],
 "metadata": {
  "kernelspec": {
   "display_name": "Python 3 (ipykernel)",
   "language": "python",
   "name": "python3"
  },
  "language_info": {
   "codemirror_mode": {
    "name": "ipython",
    "version": 3
   },
   "file_extension": ".py",
   "mimetype": "text/x-python",
   "name": "python",
   "nbconvert_exporter": "python",
   "pygments_lexer": "ipython3",
   "version": "3.9.7"
  }
 },
 "nbformat": 4,
 "nbformat_minor": 5
}
